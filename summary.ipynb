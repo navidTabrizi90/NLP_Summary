{
 "cells": [
  {
   "cell_type": "code",
   "execution_count": 1,
   "metadata": {},
   "outputs": [],
   "source": [
    "import nltk\n",
    "from nltk.tokenize import sent_tokenize, word_tokenize\n",
    "from nltk.probability import FreqDist\n",
    "from nltk.corpus import stopwords\n",
    "from heapq import nlargest\n"
   ]
  },
  {
   "cell_type": "code",
   "execution_count": 2,
   "metadata": {},
   "outputs": [
    {
     "name": "stderr",
     "output_type": "stream",
     "text": [
      "[nltk_data] Downloading package punkt to\n",
      "[nltk_data]     C:\\Users\\navid\\AppData\\Roaming\\nltk_data...\n",
      "[nltk_data]   Package punkt is already up-to-date!\n",
      "[nltk_data] Downloading package stopwords to\n",
      "[nltk_data]     C:\\Users\\navid\\AppData\\Roaming\\nltk_data...\n",
      "[nltk_data]   Package stopwords is already up-to-date!\n"
     ]
    },
    {
     "data": {
      "text/plain": [
       "True"
      ]
     },
     "execution_count": 2,
     "metadata": {},
     "output_type": "execute_result"
    }
   ],
   "source": [
    "nltk.download('punkt')\n",
    "nltk.download('stopwords')"
   ]
  },
  {
   "cell_type": "code",
   "execution_count": 3,
   "metadata": {},
   "outputs": [],
   "source": [
    "def summarize_text(text, context_window_limit):\n",
    "    # tokenize  text into sentences\n",
    "    sentences = sent_tokenize(text)\n",
    "    \n",
    "    # tokenize the text into words\n",
    "    words = word_tokenize(text)\n",
    "    \n",
    "    # remove stopwords and non-alphanumeric words\n",
    "    words = [word.lower() for word in words if word.lower() not in stopwords.words('english') and word.isalnum()]\n",
    "\n",
    "\n",
    "    # calculate the frequency of each word\n",
    "    word_freq = FreqDist(words)\n",
    "    \n",
    "    # calculate the score of each sentence based on word frequency\n",
    "    sentence_scores = {}\n",
    "    \n",
    "    for sentence in sentences:\n",
    "        sentence_word_count = 0\n",
    "        sentence_score = 0\n",
    "        \n",
    "        for word in word_tokenize(sentence.lower()):\n",
    "            \n",
    "            if word in word_freq:\n",
    "                sentence_word_count += 1\n",
    "                sentence_score += word_freq[word]\n",
    "                \n",
    "        if sentence_word_count > 0:\n",
    "            sentence_scores[sentence] = sentence_score / sentence_word_count\n",
    "    \n",
    "    # Determine the target number of sentences based on sentence length\n",
    "    target_num_sentences = int(context_window_limit / 20) \n",
    "    \n",
    "    # get the top sentences based on score\n",
    "    top_sentences = nlargest(target_num_sentences, sentence_scores, key=sentence_scores.get)\n",
    "    summary = ' '.join(top_sentences)\n",
    "    \n",
    "    summary_words = word_tokenize(summary)\n",
    "    # ensure the summary does not exceed the context window limit\n",
    "\n",
    "    if len(summary_words) > context_window_limit:\n",
    "        summary = ' '.join(summary_words[:context_window_limit])\n",
    "        \n",
    "    \n",
    "    return summary"
   ]
  },
  {
   "cell_type": "code",
   "execution_count": 4,
   "metadata": {},
   "outputs": [],
   "source": [
    "def hieracial_summarization(text, context_window_limit):\n",
    "    slice_size = context_window_limit // 2\n",
    "    summaries = []\n",
    "    start = 0\n",
    "    \n",
    "    while start < len(text):\n",
    "        end = start + slice_size\n",
    "        slice_text = text[start:end]\n",
    "        summary = summarize_text(slice_text, context_window_limit)\n",
    "        summaries.append(summary)\n",
    "        start = end\n",
    "    final_summary = ' '.join(summaries)\n",
    "    \n",
    "    \n",
    "    while len(word_tokenize(final_summary)) > context_window_limit:\n",
    "        final_summary = summarize_text(final_summary, context_window_limit)\n",
    "    return final_summary"
   ]
  },
  {
   "cell_type": "code",
   "execution_count": 8,
   "metadata": {},
   "outputs": [],
   "source": [
    "def process_documents(doc1, doc2, context_window_limit):\n",
    "    doc1_length = len(word_tokenize(doc1))\n",
    "    doc2_length = len(word_tokenize(doc2))\n",
    "    total_length = doc1_length + doc2_length\n",
    "    doc1_target_length = int((doc1_length / total_length) * context_window_limit)\n",
    "    doc2_target_length = context_window_limit - doc1_target_length\n",
    "\n",
    "    summary1 = hieracial_summarization(doc1, doc1_target_length)\n",
    "    summary2 = hieracial_summarization(doc2, doc2_target_length)\n",
    "\n",
    "\n",
    "    # assuming 'generate_query' is a placeholder for actual query generation logic\n",
    "    generate_query(summary1, summary2)\n",
    "    \n",
    "    \n",
    "    with open(\"summary1.txt\", \"w\", encoding=\"utf-8\") as file:\n",
    "        file.write(summary1)\n",
    "    with open(\"summary2.txt\", \"w\", encoding=\"utf-8\") as file:\n",
    "        file.write(summary2)"
   ]
  },
  {
   "cell_type": "code",
   "execution_count": 9,
   "metadata": {},
   "outputs": [],
   "source": [
    "def generate_query(summary1, summary2):\n",
    "    # Placeholder query based on summaries\n",
    "    print(\"Generating query from summaries...\")\n",
    "\n"
   ]
  },
  {
   "cell_type": "code",
   "execution_count": 10,
   "metadata": {},
   "outputs": [
    {
     "name": "stdout",
     "output_type": "stream",
     "text": [
      "Generating query from summaries...\n"
     ]
    }
   ],
   "source": [
    "# Example usage:\n",
    "doc1 = \"\"\"\n",
    "Once the who has ceased to be a mystery, the how is all we have. On the one hand this has been a classic City kick for the line. After the back-to-back draws against Liverpool and Arsenal as March turned into April, results that even at the time felt a missed opportunity for the challengers to open up clear water, City have won eight in a row, scoring 30 and conceding five.\n",
    "If there was one moment that summed up that run, it came in the win over Wolves when within a minute of Hwang Hee-chan pulling one back to make it 3-1 and raise the vaguest possibility of a comeback Erling Haaland took a long pass from Phil Foden, stepped inside Max Kilman and bullied a shot into the top corner. It was simple, direct and brutally efficient and it admitted not a glimmer of hope for anybody else: don’t even think about taking this title from us, it said.\n",
    "The oddity over the past few weeks is that there have been quite a few moments like that. What if Emi Martínez rather than Robin Olsen had played? What if Chris Wood or Murillo had taken their chances? What if City hadn’t been given that questionable early penalty against Wolves? What if Son Heung-min had scored that one-on-one on Tuesday?\n",
    "Nottingham Forest created a higher xG in the first half against City than any other side had in the league this season; against Spurs, City created a lower xG in the first half than in any other league game this season. It sounds absurd to say it but even after they thrashed Wolves there was a sense City had not been entirely convincing. Haaland’s fourth killed the game and City had an extremely comfortable final half-hour but there were occasions early on when they looked vulnerable.\n",
    "Most of this is ludicrous. City are unbeaten in 34 games in all competitions. They have won their past eight in the league by at least two goals. The past six weeks have been an emphatic assertion of pre-eminence. Even if they have won only two games against top-six teams, the talk with any other side would be of a crushing surge of form at just the right time.\n",
    "But this is not any other side: it is City, the perennial champions, and so the discussion around them necessarily descends into nit-picking, just as somebody who dines in only the finest restaurants ends up quibbling about a filigree crack in the pastry or a marginal imbalance in a sauce when all the food is sensational.\n",
    "But there is something slightly different about this City. The control that once characterised Guardiola sides is not there. They have been more vulnerable to breakaways this season; their counterpress is not functioning as well. Although their possession has remained almost unchanged at 65% (an enormous number in historical terms), they have not seemed as coherent as in past seasons.\n",
    "Perhaps that’s another issue of familiarity: the tendency is to compare a team with its best self, but City have felt this season more reliant on brilliant individuals than in the past.\n",
    "\"\"\"\n",
    "doc2 = \"\"\"\n",
    "Liverpool's resurgence has been one of the stories of the season. After a slow start, the Reds have found their stride, led by the indomitable Mohamed Salah. His partnership with new signing Darwin Nunez has blossomed, yielding goals aplenty and putting Liverpool back in contention for the top four. Jurgen Klopp’s men have shown resilience, turning deficits into victories and showcasing a never-say-die attitude reminiscent of their title-winning campaign a few seasons ago.\n",
    "A key moment came in the match against Tottenham Hotspur, where a stunning late goal from Salah secured all three points in a game that seemed destined for a draw. This match was a microcosm of Liverpool’s season – moments of defensive frailty overshadowed by attacking brilliance. The team’s ability to score goals from seemingly impossible situations has been a hallmark of their play this season.\n",
    "Questions remain about Liverpool’s defense, with injuries to key players like Virgil van Dijk causing instability at the back. However, the emergence of young talents like Curtis Jones and Harvey Elliott has provided much-needed depth and dynamism in midfield. Their performances have been a bright spot, giving fans hope for the future.\n",
    "The tactical tweaks made by Klopp have also been pivotal. Switching to a more fluid 4-2-3-1 formation has allowed Liverpool to maximize their attacking potential while providing greater defensive solidity. This flexibility in approach has been crucial in navigating a congested fixture schedule, ensuring the team remains competitive on all fronts.\n",
    "As the season progresses, Liverpool’s ability to maintain this level of performance will be tested. The squad depth, combined with Klopp’s tactical acumen, will be key factors in determining whether they can sustain their challenge for silverware. With key players returning from injury and the January transfer window offering opportunities to strengthen further, Liverpool fans have every reason to be optimistic about the remainder of the season.\n",
    "\"\"\"\n",
    "context_window_limit = 4000\n",
    "process_documents(doc1, doc2, context_window_limit)"
   ]
  }
 ],
 "metadata": {
  "kernelspec": {
   "display_name": "Python 3",
   "language": "python",
   "name": "python3"
  },
  "language_info": {
   "codemirror_mode": {
    "name": "ipython",
    "version": 3
   },
   "file_extension": ".py",
   "mimetype": "text/x-python",
   "name": "python",
   "nbconvert_exporter": "python",
   "pygments_lexer": "ipython3",
   "version": "3.12.1"
  }
 },
 "nbformat": 4,
 "nbformat_minor": 2
}
