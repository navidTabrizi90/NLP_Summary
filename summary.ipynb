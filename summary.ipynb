{
 "cells": [
  {
   "cell_type": "code",
   "execution_count": 19,
   "metadata": {},
   "outputs": [],
   "source": [
    "import nltk\n",
    "from nltk.tokenize import sent_tokenize, word_tokenize\n",
    "from nltk.probability import FreqDist\n",
    "from nltk.corpus import stopwords\n",
    "from heapq import nlargest\n"
   ]
  },
  {
   "cell_type": "code",
   "execution_count": 20,
   "metadata": {},
   "outputs": [
    {
     "name": "stderr",
     "output_type": "stream",
     "text": [
      "[nltk_data] Downloading package punkt to\n",
      "[nltk_data]     C:\\Users\\navid\\AppData\\Roaming\\nltk_data...\n",
      "[nltk_data]   Package punkt is already up-to-date!\n",
      "[nltk_data] Downloading package stopwords to\n",
      "[nltk_data]     C:\\Users\\navid\\AppData\\Roaming\\nltk_data...\n",
      "[nltk_data]   Package stopwords is already up-to-date!\n"
     ]
    },
    {
     "data": {
      "text/plain": [
       "True"
      ]
     },
     "execution_count": 20,
     "metadata": {},
     "output_type": "execute_result"
    }
   ],
   "source": [
    "nltk.download('punkt')\n",
    "nltk.download('stopwords')"
   ]
  },
  {
   "cell_type": "code",
   "execution_count": 21,
   "metadata": {},
   "outputs": [],
   "source": [
    "def summarize_text(text, context_window_limit):\n",
    "    # tokenize  text into sentences\n",
    "    sentences = sent_tokenize(text)\n",
    "    \n",
    "    # tokenize the text into words\n",
    "    words = word_tokenize(text)\n",
    "    \n",
    "    # remove stopwords and non-alphanumeric words\n",
    "    words = [word.lower() for word in words if word.lower() not in stopwords.words('english') and word.isalnum()]\n",
    "\n",
    "\n",
    "    # calculate the frequency of each word\n",
    "    word_freq = FreqDist(words)\n",
    "    \n",
    "    # calculate the score of each sentence based on word frequency\n",
    "    sentence_scores = {}\n",
    "    for sentence in sentences:\n",
    "        sentence_word_count = 0\n",
    "        sentence_score = 0\n",
    "        for word in word_tokenize(sentence.lower()):\n",
    "            if word in word_freq:\n",
    "                sentence_word_count += 1\n",
    "                sentence_score += word_freq[word]\n",
    "        if sentence_word_count > 0:\n",
    "            sentence_scores[sentence] = sentence_score / sentence_word_count\n",
    "    \n",
    "    # Determine the target number of sentences based on sentence length\n",
    "    target_num_sentences = int(context_window_limit / 20) \n",
    "    \n",
    "    # get the top sentences based on score\n",
    "    top_sentences = nlargest(target_num_sentences, sentence_scores, key=sentence_scores.get)\n",
    "    summary = ' '.join(top_sentences)\n",
    "    \n",
    "    # Ensure the summary does not exceed the context window limit\n",
    "    summary_words = word_tokenize(summary)\n",
    "    if len(summary_words) > context_window_limit:\n",
    "        summary = ' '.join(summary_words[:context_window_limit])\n",
    "    \n",
    "    return summary"
   ]
  },
  {
   "cell_type": "code",
   "execution_count": 23,
   "metadata": {},
   "outputs": [
    {
     "name": "stdout",
     "output_type": "stream",
     "text": [
      "[2] Geography has been called \"a bridge between natural science and social science disciplines. While geography is specific to Earth, many concepts can be applied more broadly to other celestial bodies in the field of planetary science.\n"
     ]
    }
   ],
   "source": [
    "# example usage\n",
    "input_text = \"\"\"\n",
    "Geography (from Ancient Greek γεωγραφία geōgraphía; combining gê 'Earth' and gráphō 'write') is the study of the lands, features, inhabitants, and phenomena of Earth.[1] Geography is an all-encompassing discipline that seeks an understanding of Earth and its human and natural complexities—not merely where objects are, but also how they have changed and come to be. While geography is specific to Earth, many concepts can be applied more broadly to other celestial bodies in the field of planetary science.[2] Geography has been called \"a bridge between natural science and social science disciplines.\"\"\"\n",
    "context_window_limit = 50   \n",
    "summary = summarize_text(input_text, context_window_limit)\n",
    "print(summary)\n"
   ]
  }
 ],
 "metadata": {
  "kernelspec": {
   "display_name": "Python 3",
   "language": "python",
   "name": "python3"
  },
  "language_info": {
   "codemirror_mode": {
    "name": "ipython",
    "version": 3
   },
   "file_extension": ".py",
   "mimetype": "text/x-python",
   "name": "python",
   "nbconvert_exporter": "python",
   "pygments_lexer": "ipython3",
   "version": "3.12.1"
  }
 },
 "nbformat": 4,
 "nbformat_minor": 2
}
